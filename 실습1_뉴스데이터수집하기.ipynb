{
 "cells": [
  {
   "cell_type": "markdown",
   "id": "07bfb093",
   "metadata": {},
   "source": [
    "실습 1 : 뉴스 데이터 수집하기"
   ]
  },
  {
   "cell_type": "code",
   "execution_count": 1,
   "id": "1c2b56a0",
   "metadata": {},
   "outputs": [
    {
     "name": "stdout",
     "output_type": "stream",
     "text": [
      "기사 개수: 29\n",
      "Save complete\n"
     ]
    }
   ],
   "source": [
    "import requests\n",
    "from bs4 import BeautifulSoup\n",
    "news_rss = requests.get('https://news.sbs.co.kr/news/SectionRssFeed.do?sectionId=07')\n",
    "news_rss_soup = BeautifulSoup(news_rss.content, 'xml')\n",
    "link_list = news_rss_soup.select('item > link')\n",
    "print(\"기사 개수:\", len(link_list))\n",
    "\n",
    "title_list = news_rss_soup.select('item > title')\n",
    "title_list = [title.text for title in title_list]\n",
    "\n",
    "\n",
    "news_data = []\n",
    "\n",
    "for link in link_list:\n",
    "    news_response = requests.get(link.text)\n",
    "    news_content_soup = BeautifulSoup(news_response.content, 'html.parser')\n",
    "    news_content = news_content_soup.select_one(\"div[itemprop=articleBody]\")\n",
    "    news_data.append(news_content)\n",
    "\n",
    "import pandas as pd\n",
    "news_df = pd.DataFrame(data={'title': title_list, 'content': news_data})\n",
    "news_df.to_csv(\"news.csv\", encoding=\"utf-8-sig\", index=False)\n",
    "print(\"Save complete\")"
   ]
  },
  {
   "cell_type": "code",
   "execution_count": null,
   "id": "4b580a85",
   "metadata": {},
   "outputs": [],
   "source": []
  },
  {
   "cell_type": "code",
   "execution_count": 20,
   "id": "9c845b6a",
   "metadata": {},
   "outputs": [
    {
     "name": "stdout",
     "output_type": "stream",
     "text": [
      "<div class=\"text_area\" itemprop=\"articleBody\">\n",
      "<div style=\"text-align:center\">\n",
      "<span style=\"color:#808080\"><strong>▲ 훈 마네트 캄보디아 총리(왼쪽)와 품탐 웨차야차이 태국 부총리(오른쪽)가 휴전에 합의한 뒤 중재한 안와르 이브라힘 말레이시아 총리(가운데)와 손을 잡고 있다.</strong></span>\n",
      "</div>\n",
      "<br/> 최근 국경 문제로 무력 충돌한 태국과 캄보디아가 교전을 시작한 지 나흘 만인 오늘(28일) 정상 회담을 열고 전격 휴전에 합의했습니다. \n",
      "  <br/>\n",
      "<br/> 태국 총리 권한대행인 품탐 웨차야차이 부총리 겸 내무부 장관과 훈 마네트 캄보디아 총리는 말레이시아 수도 쿠알라룸푸르에 있는 총리 관저에서 긴급 회담을 열고 휴전에 합의했습니다. \n",
      "  <br/>\n",
      "<br/> 회담을 주재한 안와르 이브라힘 말레이시아 총리는 \"태국과 캄보디아가 조건 없는 휴전에 합의했다\"며 \"오늘 자정부터 휴전에 돌입한다\"고 말했다고 로이터통신이 전했습니다. \n",
      "  <br/>\n",
      "<br/> 817㎞에 걸쳐 국경을 맞대고 있는 태국과 캄보디아는 10세기 무렵 지어진 쁘레아비히어르 사원과 모안 톰 사원 등 국경 지역 유적을 놓고 오랜 기간 영유권 분쟁을 벌였습니다. \n",
      "  <br/>\n",
      "<br/> 특히 지난 5월 말 태국 북동부 우본라차타니주 남위안 지역 국경지대에서 발생한 소규모 교전으로 캄보디아 군인 1명이 숨진 뒤 계속 갈등을 빚었습니다. \n",
      "  <br/>\n",
      "<br/> 지난 24일부터는 전투기까지 동원된 무력 충돌이 빚어졌고, 양국 민간인과 군인 등 35명(태국 22명·캄보디아 13명)이 숨지고 140명 이상이 부상했습니다. \n",
      "  <br/>\n",
      "<br/> (사진=AP, 연합뉴스)\n",
      " </div>\n"
     ]
    }
   ],
   "source": [
    "import requests\n",
    "from bs4 import BeautifulSoup\n",
    "news_rss = requests.get('https://news.sbs.co.kr/news/SectionRssFeed.do?sectionId=07')\n",
    "news_rss_soup = BeautifulSoup(news_rss.content, 'xml')\n",
    "link_list = news_rss_soup.select('item > link')\n",
    "\n",
    "\n",
    "title_list = news_rss_soup.select('item > title')\n",
    "title_list = [title.text for title in title_list]\n",
    "\n",
    "news_response = requests.get(link.text)\n",
    "news_content_soup = BeautifulSoup(news_response.content, 'html.parser')\n",
    "news_content = news_content_soup.select_one(\"div[itemprop=articleBody]\")\n",
    "\n",
    "print(news_content)\n"
   ]
  }
 ],
 "metadata": {
  "kernelspec": {
   "display_name": "webcrawl_env",
   "language": "python",
   "name": "python3"
  },
  "language_info": {
   "codemirror_mode": {
    "name": "ipython",
    "version": 3
   },
   "file_extension": ".py",
   "mimetype": "text/x-python",
   "name": "python",
   "nbconvert_exporter": "python",
   "pygments_lexer": "ipython3",
   "version": "3.10.18"
  }
 },
 "nbformat": 4,
 "nbformat_minor": 5
}

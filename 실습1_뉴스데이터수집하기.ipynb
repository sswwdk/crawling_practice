{
 "cells": [
  {
   "cell_type": "markdown",
   "id": "07bfb093",
   "metadata": {},
   "source": [
    "실습 1 : 뉴스 데이터 수집하기"
   ]
  },
  {
   "cell_type": "code",
   "execution_count": 24,
   "id": "1c2b56a0",
   "metadata": {},
   "outputs": [
    {
     "name": "stdout",
     "output_type": "stream",
     "text": [
      "기사 개수: 29\n",
      "Save complete\n"
     ]
    }
   ],
   "source": [
    "import requests\n",
    "from bs4 import BeautifulSoup\n",
    "\n",
    "news_rss = requests.get('https://news.sbs.co.kr/news/SectionRssFeed.do?sectionId=07')\n",
    "news_rss_soup = BeautifulSoup(news_rss.content, 'xml')\n",
    "link_list = news_rss_soup.select('item > link')\n",
    "print(\"기사 개수:\", len(link_list))\n",
    "\n",
    "\n",
    "title_list = news_rss_soup.select('item > title')\n",
    "title_list = [title.text for title in title_list]\n",
    "\n",
    "\n",
    "news_data = []\n",
    "\n",
    "for link in link_list:\n",
    "    news_response = requests.get(link.text)\n",
    "    news_content_soup = BeautifulSoup(news_response.content, 'html.parser')\n",
    "    news_content = news_content_soup.select_one(\"div[itemprop=articleBody]\")\n",
    "    news_data.append(news_content)\n",
    "\n",
    "import pandas as pd\n",
    "news_df = pd.DataFrame(data={'title': title_list, 'content': news_data})\n",
    "news_df.to_csv(\"news.csv\", encoding=\"utf-8-sig\", index=False)\n",
    "print(\"Save complete\")"
   ]
  },
  {
   "cell_type": "code",
   "execution_count": null,
   "id": "4b580a85",
   "metadata": {},
   "outputs": [],
   "source": []
  },
  {
   "cell_type": "markdown",
   "id": "f7f94366",
   "metadata": {},
   "source": [
    "--- "
   ]
  },
  {
   "cell_type": "markdown",
   "id": "bd052308",
   "metadata": {},
   "source": [
    "실습 1 - 1 : 연합뉴스 크롤링하기    \n",
    "https://www.yna.co.kr/rss/news.xml"
   ]
  },
  {
   "cell_type": "markdown",
   "id": "97b0da2e",
   "metadata": {},
   "source": [
    "뉴스 제목 : item > title\n",
    "뉴스 내용 : #articleWrap > div.story-news.article > p:nth-child(4)"
   ]
  },
  {
   "cell_type": "code",
   "execution_count": 21,
   "id": "36c0483a",
   "metadata": {},
   "outputs": [
    {
     "name": "stdout",
     "output_type": "stream",
     "text": [
      "기사 개수: 120\n",
      "Save complete\n"
     ]
    }
   ],
   "source": [
    "import requests\n",
    "from bs4 import BeautifulSoup\n",
    "news_rss = requests.get('https://www.yna.co.kr/rss/news.xml')\n",
    "news_rss_soup = BeautifulSoup(news_rss.content, 'xml')\n",
    "link_list = news_rss_soup.select('item > link')\n",
    "print(\"기사 개수:\", len(link_list))\n",
    "\n",
    "title_list = news_rss_soup.select('item > title')\n",
    "title_list = [title.text for title in title_list]\n",
    "\n",
    "\n",
    "news_data = []\n",
    "\n",
    "for link in link_list:\n",
    "    news_response = requests.get(link.text)\n",
    "    news_content_soup = BeautifulSoup(news_response.content, 'html.parser')\n",
    "    news_content = news_content_soup.select_one(\"div.story-news.article\")\n",
    "    news_data.append(news_content)\n",
    "\n",
    "import pandas as pd\n",
    "news_df = pd.DataFrame(data={'title': title_list, 'content': news_data})\n",
    "news_df.to_csv(\"news2.csv\", encoding=\"utf-8-sig\", index=False)\n",
    "print(\"Save complete\")"
   ]
  }
 ],
 "metadata": {
  "kernelspec": {
   "display_name": "webcrawl_env",
   "language": "python",
   "name": "python3"
  },
  "language_info": {
   "codemirror_mode": {
    "name": "ipython",
    "version": 3
   },
   "file_extension": ".py",
   "mimetype": "text/x-python",
   "name": "python",
   "nbconvert_exporter": "python",
   "pygments_lexer": "ipython3",
   "version": "3.10.18"
  }
 },
 "nbformat": 4,
 "nbformat_minor": 5
}

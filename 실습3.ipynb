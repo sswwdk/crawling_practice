{
 "cells": [
  {
   "cell_type": "markdown",
   "id": "12c73d57",
   "metadata": {},
   "source": [
    "# 실습 3 토트넘 선수들의 등번호, 이름, 국적, 이미지를 불러오기   \n",
    "선수 이미지는 player_images에 저장하고, 선수 등번호, 이름, 국적은 players.csv에 저장한다."
   ]
  },
  {
   "cell_type": "markdown",
   "id": "f6e85134",
   "metadata": {},
   "source": [
    "## 라이브러리 불러오기"
   ]
  },
  {
   "cell_type": "code",
   "execution_count": 1,
   "id": "a05887a4",
   "metadata": {},
   "outputs": [
    {
     "name": "stdout",
     "output_type": "stream",
     "text": [
      "1단계 완료: 라이브러리 불러오기 성공\n"
     ]
    }
   ],
   "source": [
    "import requests\n",
    "from bs4 import BeautifulSoup\n",
    "from io import BytesIO\n",
    "from PIL import Image\n",
    "import os\n",
    "import re\n",
    "import pandas as pd\n",
    "\n",
    "print(\"1단계 완료: 라이브러리 불러오기 성공\")"
   ]
  },
  {
   "cell_type": "markdown",
   "id": "4c2bec62",
   "metadata": {},
   "source": [
    "## 웹페이지 연결 확인 및 폴더 생성"
   ]
  },
  {
   "cell_type": "code",
   "execution_count": 2,
   "id": "cb80403e",
   "metadata": {},
   "outputs": [
    {
     "name": "stdout",
     "output_type": "stream",
     "text": [
      "2단계 완료: 페이지 불러오기 성공\n"
     ]
    }
   ],
   "source": [
    "# 크롤링할 페이지 URL\n",
    "url = \"https://www.tottenhamhotspur.com/teams/men/players/\"  # 실제 선수 정보 페이지 URL로 교체\n",
    "\n",
    "# HTML 페이지 불러오기\n",
    "response = requests.get(url)\n",
    "\n",
    "# 이미지 저장 폴더 생성\n",
    "image_dir = \"player_images\"\n",
    "if not os.path.exists(image_dir):\n",
    "    os.makedirs(image_dir)\n",
    "\n",
    "# 정상 연결 확인\n",
    "if response.status_code == 200:\n",
    "    print(\"2단계 완료: 페이지 불러오기 성공\")\n",
    "else:\n",
    "    print(\"페이지 연결 실패:\", response.status_code)"
   ]
  },
  {
   "cell_type": "markdown",
   "id": "036db705",
   "metadata": {},
   "source": [
    "번호   \n",
    "#react_YBEVfG5bnUyUOjUrKS2eA > div > div:nth-child(1) > a:nth-child(2) > div.PlayersPlayer__info > div.PlayersPlayer__number"
   ]
  },
  {
   "cell_type": "markdown",
   "id": "f038b84b",
   "metadata": {},
   "source": [
    "이름   \n",
    "#react_YBEVfG5bnUyUOjUrKS2eA > div > div:nth-child(1) > a:nth-child(2) > div.PlayersPlayer__info > div.PlayersPlayer__name"
   ]
  },
  {
   "cell_type": "markdown",
   "id": "bfc2c64c",
   "metadata": {},
   "source": [
    "나라   \n",
    "#react_YBEVfG5bnUyUOjUrKS2eA > div > div:nth-child(1) > a:nth-child(8) > div.PlayersPlayer__info > div.PlayersPlayer__country"
   ]
  },
  {
   "cell_type": "markdown",
   "id": "9285697b",
   "metadata": {},
   "source": [
    "이미지   \n",
    "#react_YBEVfG5bnUyUOjUrKS2eA > div > div:nth-child(1) > a:nth-child(2) > div.PlayersPlayer__photo > img"
   ]
  },
  {
   "cell_type": "markdown",
   "id": "9b05555a",
   "metadata": {},
   "source": [
    "## HTML 파싱 및 크롤링"
   ]
  },
  {
   "cell_type": "code",
   "execution_count": null,
   "id": "23fba66b",
   "metadata": {},
   "outputs": [
    {
     "name": "stdout",
     "output_type": "stream",
     "text": [
      "3단계 완료: 수집한 선수 수 = 34\n",
      "3단계 완료: 이미지 다운로드 및 데이터 수집 성공\n"
     ]
    }
   ],
   "source": [
    "# HTML 파싱\n",
    "soup = BeautifulSoup(response.content, \"html.parser\")\n",
    "\n",
    "# HTML 구조에 맞는 선택자 작성 (국적 추가)\n",
    "number_list = soup.select(\"div.PlayersPlayer__info > div.PlayersPlayer__number\")  # 선수 번호\n",
    "name_list = soup.select(\"div.PlayersPlayer__info > div.PlayersPlayer__name\")      # 선수 이름\n",
    "image_list = soup.select(\"div.PlayersPlayer__photo > img\")                      # 선수 이미지 태그\n",
    "country_list = soup.select(\"div.PlayersPlayer__info > div.PlayersPlayer__country\") # 선수 국적\n",
    "\n",
    "print(f\"3단계 완료: 수집한 선수 수 = {len(name_list)}\")\n",
    "\n",
    "# 파일명에서 사용할 수 없는 문자 제거\n",
    "pattern = r'[\\\\/:\"*?<>|]'\n",
    "# image_dir 변수가 정의되어 있다고 가정합니다. 예: image_dir = \"player_images\"\n",
    "# os.makedirs(image_dir, exist_ok=True)\n",
    "\n",
    "results = []\n",
    "# zip에 country_list를 추가하여 국적 정보도 함께 순회합니다.\n",
    "for number, name, image, country in zip(number_list, name_list, image_list, country_list):\n",
    "    # 1. 이미지 다운로드 및 저장 (이 부분은 변경 없음)\n",
    "    image_url = image.get(\"data-src\")\n",
    "    if image_url:\n",
    "        try:\n",
    "            img_response = requests.get(image_url)\n",
    "            img = Image.open(BytesIO(img_response.content))\n",
    "            filename = f\"{number.text.strip()}_{name.text.strip()}\"\n",
    "            filename = re.sub(pattern, \"\", filename)\n",
    "            # image_dir 변수에 이미지 저장\n",
    "            img.save(os.path.join(image_dir, filename + \".png\"))\n",
    "        except Exception as e:\n",
    "            print(f\"이미지 처리 중 오류 발생: {filename}.png - {e}\")\n",
    "\n",
    "    # 2. CSV 파일에 저장할 데이터만 results 리스트에 추가\n",
    "    # (번호, 이름, 국적)\n",
    "    results.append([\n",
    "        number.text.strip(),\n",
    "        name.text.strip(),\n",
    "        country.text.strip() # 국적 텍스트 추출\n",
    "    ])\n",
    "\n",
    "print(\"3단계 완료: 이미지 다운로드 및 데이터 수집 성공\")"
   ]
  },
  {
   "cell_type": "markdown",
   "id": "c5bd7218",
   "metadata": {},
   "source": [
    "## CSV 저장"
   ]
  },
  {
   "cell_type": "code",
   "execution_count": 6,
   "id": "0718246c",
   "metadata": {},
   "outputs": [
    {
     "name": "stdout",
     "output_type": "stream",
     "text": [
      "4단계 완료: players.csv 저장 완료!\n"
     ]
    }
   ],
   "source": [
    "# DataFrame으로 변환 후 CSV 저장\n",
    "df = pd.DataFrame(results, columns=[\"번호\", \"이름\", \"국적\"])\n",
    "df.to_csv(\"players.csv\", index=False, encoding=\"utf-8-sig\")\n",
    "\n",
    "print(\"4단계 완료: players.csv 저장 완료!\")"
   ]
  }
 ],
 "metadata": {
  "kernelspec": {
   "display_name": "webcrawl_env",
   "language": "python",
   "name": "python3"
  },
  "language_info": {
   "codemirror_mode": {
    "name": "ipython",
    "version": 3
   },
   "file_extension": ".py",
   "mimetype": "text/x-python",
   "name": "python",
   "nbconvert_exporter": "python",
   "pygments_lexer": "ipython3",
   "version": "3.10.18"
  }
 },
 "nbformat": 4,
 "nbformat_minor": 5
}
